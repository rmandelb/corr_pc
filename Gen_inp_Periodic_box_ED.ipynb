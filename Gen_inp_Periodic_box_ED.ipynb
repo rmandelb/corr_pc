{
 "cells": [
  {
   "cell_type": "code",
   "execution_count": 19,
   "id": "declared-woman",
   "metadata": {},
   "outputs": [],
   "source": [
    "import os\n",
    "from astropy.table import Table,join\n",
    "import pickle"
   ]
  },
  {
   "cell_type": "code",
   "execution_count": 2,
   "id": "earned-confidentiality",
   "metadata": {},
   "outputs": [],
   "source": [
    "file_dir='./temp/ill_test/' #directory where files for corr_pc will be placed. I recommend using full path rather than relative path as here.\n",
    "file_name='ill_test_ED'  #prefix to be appended to the files being saved. Should be different for different datasets.\n",
    "\n",
    "os.makedirs(file_dir,exist_ok=True)"
   ]
  },
  {
   "cell_type": "code",
   "execution_count": 3,
   "id": "plain-ecuador",
   "metadata": {},
   "outputs": [],
   "source": [
    "\"\"\" this function generates the input file for corr_pc\n",
    " corr_pc takes two samples to compute cross correlations. \n",
    " Shape sample: Sample of galaxies with shapes. For density correlations it is not necessary to pass shapes. \n",
    "               Prefix of filenames for this sample should be passed vias file_nameS\n",
    " Density sample: Sample of galaxies/particles that trace density field. For density correlations it is not necessary to pass shapes. \n",
    "                 If shapes are passed for this sample, w++ can be computed. Prefix of filenames for this sample should be passed vias file_nameD.\n",
    "                 If auto correlation is to be computed, simply set file_nameD=file_nameS.\n",
    " file_name: This is the prefix corr_pc will use to save the output files containing two point correlations. Input file to be passed to corr_pc is \n",
    "            also saved with this name. input file is saved in file_dir and the outputs are saved in new directory, file_dir+corr_data_out.\n",
    " corr: two point correlation to be computed. This should be density-density (wgg,wmm), shape-density (wg+) or shape-shape(w++). \n",
    "        When computing wg+, corr_pc will also compute and save wgg by default since pair counting is done anyways. \n",
    "        When doing w++, wg+ and wgg are also computed and saved.\n",
    " n_shape, n_density: number of galaxies in the shape sample and density sample respectively.\n",
    " do_jk: Whether to do jackknifing or not.\n",
    " njk: number of jackknife regions. jackknife regions are assumed to be labelled from 0...njk-1.\n",
    "\"\"\"\n",
    "def inp_gen(file_dir,file_name,file_nameS,file_nameD,corr=5,n_shape=0,n_density=0,njk=100,do_jk=1,Lbox=75):\n",
    "    s=\"\"\n",
    "    s=s+\"which_corr     \"+str(corr)+\"\\n\" #0: density-density, 1: ia: shape-density, 2 ia:shape-shape, 5: ED\n",
    "    s=s+\"coordinates    7\"+\"\\n\"  #6: rp-pi, 7:r-mu, \n",
    "    s=s+\"estimator      0\"+\"\\n\"  #0:landy-szalay (LS): cross. works for both auto and cross correlations. For auto, pass same filenames for shape and density samples \n",
    "                                 # 1: LS:auto, for auto correlation only\n",
    "    s=s+\"data_sorted     1\"+\"\\n\"  #0: no sorting, 1:sorted by z, 2:sorted by dec (y)\n",
    "    s=s+\"use_comoving    1\"+\"\\n\"\n",
    "    s=s+\"do_jk           \"+str(do_jk)+\"\\n\" #0: no jackknife, 1: do jackknife. jk regions must be passed in a file. are assumed to be from 0..njk-1\n",
    "    s=s+\"sig_crit        0\"+\"\\n\" #for weak lensing, not important for ia, gg corrs.\n",
    "\n",
    "    #following passes information about shape sample\n",
    "    s=s+\"shape_pos       \"+file_dir+file_nameS+'_pos.dat'+\"\\n\"  # x, y coordinates\n",
    "    s=s+\"shape_z         \"+file_dir+file_nameS+'_z.dat'+\"\\n\"    # z coordinate\n",
    "    s=s+\"shape_e         \"+file_dir+file_nameS+'_e.dat'+\"\\n\"    # e1, e2\n",
    "#     s=s+\"shape_wt         \"+file_dir+file_nameS+'_wt.dat'+\"\\n\"  # weights on galaxies. If no weighting, pass 0\n",
    "    s=s+\"shape_wt         0\"+\"\\n\"\n",
    "    s=s+\"shape_jk        \"+file_dir+file_nameS+'_jk.dat'+\"\\n\"   # jackknife regions\n",
    "\n",
    "    # following passes information about density sample\n",
    "    s=s+\"density_patch   0\"+\"\\n\" #for weak lensing, not important for ia, gg corrs.\n",
    "    s=s+\"density_pos     \"+file_dir+file_nameD+'_pos.dat'+\"\\n\"  # x, y coordinates\n",
    "    s=s+\"density_z       \"+file_dir+file_nameD+'_z.dat'+\"\\n\"    # z coordinate\n",
    "    s=s+\"density_wt       0\"+\"\\n\"  # weights on galaxies/particles. If no weighting, pass 0\n",
    "#     s=s+\"density_wt       \"+file_dir+file_nameD+'_wt.dat'+\"\\n\"  # weights on galaxies/particles. If no weighting, pass 0\n",
    "    s=s+\"density_jk      \"+file_dir+file_nameD+'_jk.dat'+\"\\n\"   # jackknife regions    \n",
    "    s=s+\"density_e      0\"+\"\\n\"   #if doing shape-shape, this file should be passed. # e1, e2\n",
    "\n",
    "    # following passes information about randoms corresponding to shape sample\n",
    "    s=s+\"Srandom_pos      0\"+\"\\n\"\n",
    "    s=s+\"Srandom_z        0\"+\"\\n\"\n",
    "    s=s+\"Srandoms_wt      0\"+\"\\n\"\n",
    "    s=s+\"Srand_jk         0\"+\"\\n\"\n",
    "\n",
    "    # following passes information about randoms corresponding to density sample\n",
    "    s=s+\"Drandom_patch    0\"+\"\\n\"\n",
    "    s=s+\"Drandom_pos      0\"+\"\\n\"\n",
    "    s=s+\"Drandom_z        0\"+\"\\n\"\n",
    "    s=s+\"Drandoms_wt      0\"+\"\\n\"\n",
    "    s=s+\"drand_jk         0\"+\"\\n\"\n",
    "\n",
    "    s=s+\"distances        0\"+\"\\n\"  #not needed for PB\n",
    "    s=s+\"patch_file       0\"+\"\\n\"  #not needed for PB\n",
    "    s=s+\"out_file         \"+file_dir+\"corr_data_out/\"+file_name+\"_\"+\"\\n\"  # prefix for the output files.\n",
    "    \n",
    "    os.makedirs(file_dir+\"corr_data_out/\",exist_ok=True) #directory where outputs are saved.\n",
    "    \n",
    "    s=s+\"n_threads       0\"+\"\\n\"   # number of openmp threads to use. 0== use maximum available.\n",
    "    s=s+\"n_shape         \"+str(n_shape)+\"\\n\"  #number of galaxies in shape sample\n",
    "    s=s+\"n_density       \"+str(n_density)+\"\\n\"  #number of galaxies in density sample\n",
    "    s=s+\"n_Srand         0\"+\"\\n\"\n",
    "    s=s+\"n_Drand         0\"+\"\\n\"\n",
    "    s=s+\"rand_subsample  0\"+\"\\n\"  #subsample randoms to speed up calculations.\n",
    "    s=s+\"n_jk          \"+str(njk)+\"\\n\"  #number of jk regions. regions are assumed to be labelled from 0....njk-1\n",
    "    s=s+\"n_patch         0 \"+\"\\n\"#not needed for PB\n",
    "\n",
    "    s=s+\"binR_min        0.1\"+\"\\n\"  # rp_min for the bins\n",
    "    s=s+\"binR_max       10\"+\"\\n\" # rp_max for the bins\n",
    "    s=s+\"n_bins         10\"+\"\\n\" #number of rp bins to use\n",
    "    s=s+\"lin_bin         0\"+\"\\n\"  #linear or log bins. 0: log, 1:linear\n",
    "    s=s+\"n_p_bin         1\"+\"\\n\"  #number of pi bins to use. When using r-mu, pi==mu. \n",
    "    s=s+\"pmin         -1\"+\"\\n\"  # pi_min (when mu, mu_min=-1)\n",
    "    s=s+\"pmax         1\"+\"\\n\"   # pi_max (mu_max=1)\n",
    "    s=s+\"z_min         0\"+\"\\n\"    \n",
    "    s=s+\"z_max         300\"+\"\\n\" \n",
    "    s=s+\"dz            0.0001\"+\"\\n\" #not needed for PB\n",
    "    s=s+\"z_sep_min     -100\"+\"\\n\"  \n",
    "    s=s+\"z_sep_max     100\"+\"\\n\"   \n",
    "    s=s+\"periodic_box  1\"+\"\\n\"\n",
    "    s=s+\"box_size     \"+str(Lbox)+\"\\n\"  #size of the box.\n",
    "\n",
    "    fil=open(file_dir+file_name+'.inp','w')\n",
    "    fil.write(s)\n"
   ]
  },
  {
   "cell_type": "code",
   "execution_count": 4,
   "id": "willing-billion",
   "metadata": {},
   "outputs": [],
   "source": [
    "\"\"\"\n",
    "This function splits the sim box into a grid in x-y plane. Number of grid splits along each axis are given by njk1, for a total of njk1^2 sub-sample regions.\n",
    "After this, each point in data (galaxy or particle) is assigned to its sub-sample.\n",
    "\"\"\"\n",
    "def jk_box(data=[],Lbox=None,njk1=7):\n",
    "    if Lbox is None:\n",
    "        Lbox=np.ceil(max(data['x']))\n",
    "        print('jk_box using Lbox=',Lbox)\n",
    "    xjk=np.linspace(0,Lbox,njk1+1)\n",
    "    yjk=np.linspace(0,Lbox,njk1+1)\n",
    "    jk=np.zeros(len(data))\n",
    "    jjk=0\n",
    "    for i in np.arange(njk1):\n",
    "        xil=xjk[i]\n",
    "        xih=xjk[i+1]\n",
    "        x1=data['x']>xil\n",
    "        x2=data['x']<xih\n",
    "        for j in np.arange(njk1):\n",
    "            yil=yjk[j]\n",
    "            yih=yjk[j+1]\n",
    "            y1=data['y']>yil\n",
    "            y2=data['y']<=yih\n",
    "            jk[x1*x2*y1*y2]=jjk\n",
    "            jjk+=1\n",
    "#     jk=np.array(jk,dtype=[('jk','int32')])\n",
    "    return jk\n"
   ]
  },
  {
   "cell_type": "code",
   "execution_count": 9,
   "id": "focal-concert",
   "metadata": {},
   "outputs": [],
   "source": [
    "# ill_dir='/hildafs/datasets/IllustrisTNG/TNG300-1/TNG300-1_particle_data/'\n",
    "ill_dir='/hildafs/datasets/IllustrisTNG/TNG300-1/shape_catalogues/'"
   ]
  },
  {
   "cell_type": "code",
   "execution_count": 13,
   "id": "environmental-least",
   "metadata": {},
   "outputs": [],
   "source": [
    "S_dat_name='TNG300-1_50_non-reduced_galaxy_shapes' \n",
    "S_dat_name2='TNG300-1_50_vagc'\n",
    "D_dat_name=S_dat_name"
   ]
  },
  {
   "cell_type": "raw",
   "id": "b7fb972b",
   "metadata": {},
   "source": [
    "_=hist2d(S_dat['y'],S_dat['z'],1000,norm=LogNorm())"
   ]
  },
  {
   "cell_type": "code",
   "execution_count": 14,
   "id": "6b128f73",
   "metadata": {},
   "outputs": [],
   "source": [
    "#read in shape sample\n",
    "fname=ill_dir+S_dat_name+'.dat'\n",
    "fname2=ill_dir+S_dat_name2+'.dat'\n",
    "S_dat=Table(np.genfromtxt(fname,names=True))\n",
    "S_dat2=Table(np.genfromtxt(fname2,names=True))\n",
    "\n",
    "S_dat3=join(S_dat,S_dat2,keys='gal_id')\n",
    "\n",
    "len(S_dat3),len(S_dat2),len(S_dat)"
   ]
  },
  {
   "cell_type": "code",
   "execution_count": 26,
   "id": "c993dfde",
   "metadata": {},
   "outputs": [],
   "source": [
    "S_dat=S_dat3"
   ]
  },
  {
   "cell_type": "code",
   "execution_count": 27,
   "id": "agricultural-commissioner",
   "metadata": {},
   "outputs": [
    {
     "name": "stdout",
     "output_type": "stream",
     "text": [
      "jk_box using Lbox= 205000.0\n"
     ]
    }
   ],
   "source": [
    "\n",
    "# S_dat = Table.read(fname)\n",
    "S_dat['jk'] = jk_box(data=S_dat)\n",
    "S_dat.sort('z')\n",
    "\n",
    "S_dat['x']/=1000.\n",
    "S_dat['y']/=1000.\n",
    "S_dat['z']/=1000."
   ]
  },
  {
   "cell_type": "code",
   "execution_count": 31,
   "id": "5bc0c572",
   "metadata": {},
   "outputs": [],
   "source": [
    "S_dat['e1']=S_dat['av_x']\n",
    "S_dat['e2']=S_dat['av_y']\n",
    "S_dat['e3']=S_dat['av_z']"
   ]
  },
  {
   "cell_type": "code",
   "execution_count": 45,
   "id": "c32fc69c",
   "metadata": {},
   "outputs": [
    {
     "data": {
      "text/html": [
       "&lt;Column name=&apos;e1&apos; dtype=&apos;float64&apos; length=202053&gt;\n",
       "<table>\n",
       "<tr><td>1.0000000000000002</td></tr>\n",
       "<tr><td>1.0000000000000002</td></tr>\n",
       "<tr><td>1.0</td></tr>\n",
       "<tr><td>1.0000000000000009</td></tr>\n",
       "<tr><td>1.0000000000000004</td></tr>\n",
       "<tr><td>0.9999999999999999</td></tr>\n",
       "<tr><td>1.0</td></tr>\n",
       "<tr><td>0.9999999999999998</td></tr>\n",
       "<tr><td>0.9999999999999992</td></tr>\n",
       "<tr><td>1.0000000000000002</td></tr>\n",
       "<tr><td>1.0</td></tr>\n",
       "<tr><td>1.0000000000000004</td></tr>\n",
       "<tr><td>0.9999999999999993</td></tr>\n",
       "<tr><td>0.9999999999999994</td></tr>\n",
       "<tr><td>0.9999999999999998</td></tr>\n",
       "<tr><td>0.9999999999999996</td></tr>\n",
       "<tr><td>1.0</td></tr>\n",
       "<tr><td>0.9999999999999997</td></tr>\n",
       "<tr><td>0.9999999999999997</td></tr>\n",
       "<tr><td>0.9999999999999991</td></tr>\n",
       "<tr><td>1.0000000000000007</td></tr>\n",
       "<tr><td>1.0</td></tr>\n",
       "<tr><td>...</td></tr>\n",
       "<tr><td>0.9999999999999992</td></tr>\n",
       "<tr><td>0.9999999999999996</td></tr>\n",
       "<tr><td>0.9999999999999991</td></tr>\n",
       "<tr><td>1.0000000000000002</td></tr>\n",
       "<tr><td>1.0000000000000009</td></tr>\n",
       "<tr><td>1.0000000000000002</td></tr>\n",
       "<tr><td>1.0000000000000004</td></tr>\n",
       "<tr><td>1.0000000000000004</td></tr>\n",
       "<tr><td>0.9999999999999996</td></tr>\n",
       "<tr><td>0.9999999999999994</td></tr>\n",
       "<tr><td>1.0000000000000007</td></tr>\n",
       "<tr><td>1.0000000000000007</td></tr>\n",
       "<tr><td>1.0000000000000004</td></tr>\n",
       "<tr><td>1.0000000000000002</td></tr>\n",
       "<tr><td>1.0000000000000004</td></tr>\n",
       "<tr><td>0.9999999999999999</td></tr>\n",
       "<tr><td>0.9999999999999999</td></tr>\n",
       "<tr><td>0.9999999999999999</td></tr>\n",
       "<tr><td>0.9999999999999999</td></tr>\n",
       "<tr><td>1.0000000000000004</td></tr>\n",
       "<tr><td>0.9999999999999999</td></tr>\n",
       "</table>"
      ],
      "text/plain": [
       "<Column name='e1' dtype='float64' length=202053>\n",
       "1.0000000000000002\n",
       "1.0000000000000002\n",
       "               1.0\n",
       "1.0000000000000009\n",
       "1.0000000000000004\n",
       "0.9999999999999999\n",
       "               1.0\n",
       "0.9999999999999998\n",
       "0.9999999999999992\n",
       "1.0000000000000002\n",
       "               1.0\n",
       "1.0000000000000004\n",
       "0.9999999999999993\n",
       "0.9999999999999994\n",
       "0.9999999999999998\n",
       "0.9999999999999996\n",
       "               1.0\n",
       "0.9999999999999997\n",
       "0.9999999999999997\n",
       "0.9999999999999991\n",
       "1.0000000000000007\n",
       "               1.0\n",
       "               ...\n",
       "0.9999999999999992\n",
       "0.9999999999999996\n",
       "0.9999999999999991\n",
       "1.0000000000000002\n",
       "1.0000000000000009\n",
       "1.0000000000000002\n",
       "1.0000000000000004\n",
       "1.0000000000000004\n",
       "0.9999999999999996\n",
       "0.9999999999999994\n",
       "1.0000000000000007\n",
       "1.0000000000000007\n",
       "1.0000000000000004\n",
       "1.0000000000000002\n",
       "1.0000000000000004\n",
       "0.9999999999999999\n",
       "0.9999999999999999\n",
       "0.9999999999999999\n",
       "0.9999999999999999\n",
       "1.0000000000000004\n",
       "0.9999999999999999"
      ]
     },
     "execution_count": 45,
     "metadata": {},
     "output_type": "execute_result"
    }
   ],
   "source": [
    "S_dat['e1']**2+S_dat['e2']**2+S_dat['e3']**2"
   ]
  },
  {
   "cell_type": "raw",
   "id": "b5103dbe",
   "metadata": {},
   "source": [
    "S_dat=S_dat[:1000]"
   ]
  },
  {
   "cell_type": "code",
   "execution_count": 32,
   "id": "c87b6e0f",
   "metadata": {},
   "outputs": [],
   "source": [
    "Lbox=S_dat['x'].max()"
   ]
  },
  {
   "cell_type": "code",
   "execution_count": 33,
   "id": "05144736",
   "metadata": {},
   "outputs": [
    {
     "data": {
      "text/plain": [
       "204.999125"
      ]
     },
     "execution_count": 33,
     "metadata": {},
     "output_type": "execute_result"
    }
   ],
   "source": [
    "Lbox"
   ]
  },
  {
   "cell_type": "raw",
   "id": "d637dd82",
   "metadata": {},
   "source": [
    "# read in density sample.\n",
    "fname=ill_dir+D_dat_name+'_coords.p'\n",
    "with open(fname, \"rb\") as input_file:\n",
    "    D_dat = Table(pickle.load(input_file)/1000,names=('x','y','z'))\n",
    "fname=ill_dir+D_dat_name+'_masses.p'\n",
    "with open(fname, \"rb\") as input_file:\n",
    "    D_dat['mass'] = pickle.load(input_file)\n",
    "D_dat['jk'] = jk_box(data=D_dat)\n",
    "D_dat.sort('z')\n",
    "\n",
    "D_dat"
   ]
  },
  {
   "cell_type": "code",
   "execution_count": 34,
   "id": "69b054ee",
   "metadata": {},
   "outputs": [],
   "source": [
    "D_dat=S_dat"
   ]
  },
  {
   "cell_type": "code",
   "execution_count": 35,
   "id": "atlantic-italic",
   "metadata": {},
   "outputs": [
    {
     "data": {
      "text/plain": [
       "True"
      ]
     },
     "execution_count": 35,
     "metadata": {},
     "output_type": "execute_result"
    }
   ],
   "source": [
    "'e1' in S_dat.columns"
   ]
  },
  {
   "cell_type": "code",
   "execution_count": 36,
   "id": "another-reunion",
   "metadata": {},
   "outputs": [],
   "source": [
    "\"\"\"\n",
    "Function to write data files in format that can be read by corr_pc\n",
    "\"\"\"\n",
    "def write_data(data,file_name,file_dir,wt_col=None):\n",
    "    file_name=file_dir+file_name\n",
    "    np.savetxt(file_name+'_pos.dat',np.column_stack((data['x'],data['y']))) #x,y position of galaxies\n",
    "    np.savetxt(file_name+'_z.dat',data['z']) # z position of galaxies\n",
    "    if 'jk' in data.columns:\n",
    "        np.savetxt(file_name+'_jk.dat',data['jk'],fmt='%i') #jackknife is read as integer\n",
    "    if 'e1' in data.columns: #ellipticities. corr_pc takes e1, e2\n",
    "        np.savetxt(file_name+'_e.dat',np.column_stack((data['e1'],data['e2'],data['e3'])))\n",
    "    if wt_col is not None: #wt to be applied to each galaxy/particle.\n",
    "        wt=data[wt_col]*1.\n",
    "        wt/=wt.mean()\n",
    "        np.savetxt(file_name+'_wt.dat',wt)"
   ]
  },
  {
   "cell_type": "code",
   "execution_count": 37,
   "id": "infectious-highlight",
   "metadata": {},
   "outputs": [],
   "source": [
    "file_nameS=file_name+'_shape'\n",
    "write_data(data=S_dat,file_name=file_nameS,file_dir=file_dir,)#wt_col='mass')\n",
    "\n",
    "# file_nameD=file_name+'_density'\n",
    "# write_data(data=D_dat,file_name=file_nameD,file_dir=file_dir,wt_col='mass')\n",
    "file_nameD=file_nameS"
   ]
  },
  {
   "cell_type": "code",
   "execution_count": 38,
   "id": "double-speaker",
   "metadata": {},
   "outputs": [
    {
     "data": {
      "text/plain": [
       "0.0"
      ]
     },
     "execution_count": 38,
     "metadata": {},
     "output_type": "execute_result"
    }
   ],
   "source": [
    "S_dat['jk'].min()"
   ]
  },
  {
   "cell_type": "code",
   "execution_count": 39,
   "id": "efficient-anniversary",
   "metadata": {},
   "outputs": [],
   "source": [
    "inp_gen(file_dir=file_dir,file_name=file_name,file_nameS=file_nameS,file_nameD=file_nameD,corr=5,n_shape=len(S_dat),n_density=len(D_dat),\n",
    "        njk=int(S_dat['jk'].max()+1),do_jk=1,Lbox=Lbox) \n",
    "#corr=0 will only do wgg like correlation, no shapes. set corr=1 for wg+ and wgg"
   ]
  },
  {
   "cell_type": "code",
   "execution_count": 40,
   "id": "atmospheric-proxy",
   "metadata": {},
   "outputs": [
    {
     "data": {
      "image/png": "[encoded data removed]",
      "text/plain": [
       "<Figure size 1500x1125 with 1 Axes>"
      ]
     },
     "metadata": {},
     "output_type": "display_data"
    }
   ],
   "source": [
    "_=hist(S_dat['jk'],int(S_dat['jk'].max()+1))"
   ]
  },
  {
   "cell_type": "code",
   "execution_count": 41,
   "id": "9dff0b22",
   "metadata": {},
   "outputs": [],
   "source": [
    "x=np.arange(10)\n",
    "y=np.tile(x,3).reshape(3,10).T"
   ]
  },
  {
   "cell_type": "code",
   "execution_count": 42,
   "id": "1b1c101f",
   "metadata": {},
   "outputs": [
    {
     "data": {
      "text/plain": [
       "array([[0, 0, 0],\n",
       "       [1, 1, 1],\n",
       "       [2, 2, 2],\n",
       "       [3, 3, 3],\n",
       "       [4, 4, 4],\n",
       "       [5, 5, 5],\n",
       "       [6, 6, 6],\n",
       "       [7, 7, 7],\n",
       "       [8, 8, 8],\n",
       "       [9, 9, 9]])"
      ]
     },
     "execution_count": 42,
     "metadata": {},
     "output_type": "execute_result"
    }
   ],
   "source": [
    "y"
   ]
  },
  {
   "cell_type": "code",
   "execution_count": 43,
   "id": "bacbe517",
   "metadata": {},
   "outputs": [],
   "source": [
    "import random"
   ]
  },
  {
   "cell_type": "code",
   "execution_count": 44,
   "id": "fdc47c1a",
   "metadata": {},
   "outputs": [
    {
     "data": {
      "text/plain": [
       "[array([5, 5, 5]), array([8, 8, 8]), array([4, 4, 4])]"
      ]
     },
     "execution_count": 44,
     "metadata": {},
     "output_type": "execute_result"
    }
   ],
   "source": [
    "random.sample(list(y),3)"
   ]
  },
  {
   "cell_type": "code",
   "execution_count": null,
   "id": "3fc726ce",
   "metadata": {},
   "outputs": [],
   "source": []
  },
  {
   "cell_type": "code",
   "execution_count": null,
   "id": "514338a8",
   "metadata": {},
   "outputs": [],
   "source": []
  }
 ],
 "metadata": {
  "kernelspec": {
   "display_name": "intel",
   "language": "python",
   "name": "intel"
  },
  "language_info": {
   "codemirror_mode": {
    "name": "ipython",
    "version": 3
   },
   "file_extension": ".py",
   "mimetype": "text/x-python",
   "name": "python",
   "nbconvert_exporter": "python",
   "pygments_lexer": "ipython3",
   "version": "3.9.7"
  }
 },
 "nbformat": 4,
 "nbformat_minor": 5
}
