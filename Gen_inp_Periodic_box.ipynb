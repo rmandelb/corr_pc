{
 "cells": [
  {
   "cell_type": "code",
   "execution_count": 1,
   "id": "declared-woman",
   "metadata": {},
   "outputs": [],
   "source": [
    "import os\n",
    "from astropy.table import Table\n",
    "import pickle"
   ]
  },
  {
   "cell_type": "code",
   "execution_count": 16,
   "id": "earned-confidentiality",
   "metadata": {},
   "outputs": [],
   "source": [
    "file_dir='./temp/ill_test/' #directory where files for corr_pc will be placed. I recommend using full path rather than relative path as here.\n",
    "file_name='ill_test'  #prefix to be appended to the files being saved. Should be different for different datasets.\n",
    "\n",
    "os.makedirs(file_dir,exist_ok=True)"
   ]
  },
  {
   "cell_type": "code",
   "execution_count": 21,
   "id": "plain-ecuador",
   "metadata": {},
   "outputs": [],
   "source": [
    "\"\"\" this function generates the input file for corr_pc\n",
    " corr_pc takes two samples to compute cross correlations. \n",
    " Shape sample: Sample of galaxies with shapes. For density correlations it is not necessary to pass shapes. \n",
    "               Prefix of filenames for this sample should be passed vias file_nameS\n",
    " Density sample: Sample of galaxies/particles that trace density field. For density correlations it is not necessary to pass shapes. \n",
    "                 If shapes are passed for this sample, w++ can be computed. Prefix of filenames for this sample should be passed vias file_nameD.\n",
    "                 If auto correlation is to be computed, simply set file_nameD=file_nameS.\n",
    " file_name: This is the prefix corr_pc will use to save the output files containing two point correlations. Input file to be passed to corr_pc is \n",
    "            also saved with this name. input file is saved in file_dir and the outputs are saved in new directory, file_dir+corr_data_out.\n",
    " corr: two point correlation to be computed. This should be density-density (wgg,wmm), shape-density (wg+) or shape-shape(w++). \n",
    "        When computing wg+, corr_pc will also compute and save wgg by default since pair counting is done anyways. \n",
    "        When doing w++, wg+ and wgg are also computed and saved.\n",
    " n_shape, n_density: number of galaxies in the shape sample and density sample respectively.\n",
    " do_jk: Whether to do jackknifing or not.\n",
    " njk: number of jackknife regions. jackknife regions are assumed to be labelled from 0...njk-1.\n",
    "\"\"\"\n",
    "def inp_gen(file_dir,file_name,file_nameS,file_nameD,corr=1,n_shape=0,n_density=0,njk=100,do_jk=1):\n",
    "    s=\"\"\n",
    "    s=s+\"which_corr     \"+str(corr)+\"\\n\" #0: density-density, 1: ia: shape-density, 2 ia:shape-shape,\n",
    "    s=s+\"coordinates    6\"+\"\\n\"  #0: rp-pi\n",
    "    s=s+\"estimator      0\"+\"\\n\"  #0:landy-szalay (LS): cross. works for both auto and cross correlations. For auto, pass same filenames for shape and density samples \n",
    "                                 # 1: LS:auto, for auto correlation only\n",
    "    s=s+\"data_sorted     1\"+\"\\n\"  #0: no sorting, 1:sorted by z, 2:sorted by dec (y)\n",
    "    s=s+\"use_comoving    1\"+\"\\n\"\n",
    "    s=s+\"do_jk           \"+str(do_jk)+\"\\n\" #0: no jackknife, 1: do jackknife. jk regions must be passed in a file. are assumed to be from 0..njk-1\n",
    "    s=s+\"sig_crit        0\"+\"\\n\" #for weak lensing, not important for ia, gg corrs.\n",
    "\n",
    "    #following passes information about shape sample\n",
    "    s=s+\"shape_pos       \"+file_dir+file_nameS+'_pos.dat'+\"\\n\"  # x, y coordinates\n",
    "    s=s+\"shape_z         \"+file_dir+file_nameS+'_z.dat'+\"\\n\"    # z coordinate\n",
    "    s=s+\"shape_e         \"+file_dir+file_nameS+'_e.dat'+\"\\n\"    # e1, e2\n",
    "    s=s+\"shape_wt         \"+file_dir+file_nameS+'_wt.dat'+\"\\n\"  # weights on galaxies. If no weighting, pass 0\n",
    "#     s=s+\"shape_wt         0\"+\"\\n\"\n",
    "    s=s+\"shape_jk        \"+file_dir+file_nameS+'_jk.dat'+\"\\n\"   # jackknife regions\n",
    "\n",
    "    # following passes information about density sample\n",
    "    s=s+\"density_patch   0\"+\"\\n\" #for weak lensing, not important for ia, gg corrs.\n",
    "    s=s+\"density_pos     \"+file_dir+file_nameD+'_pos.dat'+\"\\n\"  # x, y coordinates\n",
    "    s=s+\"density_z       \"+file_dir+file_nameD+'_z.dat'+\"\\n\"    # z coordinate\n",
    "    s=s+\"density_wt       \"+file_dir+file_nameD+'_wt.dat'+\"\\n\"  # weights on galaxies/particles. If no weighting, pass 0\n",
    "    s=s+\"density_jk      \"+file_dir+file_nameD+'_jk.dat'+\"\\n\"   # jackknife regions    \n",
    "    s=s+\"density_e      0\"+\"\\n\"   #if doing shape-shape, this file should be passed. # e1, e2\n",
    "\n",
    "    # following passes information about randoms corresponding to shape sample\n",
    "    s=s+\"Srandom_pos      0\"+\"\\n\"\n",
    "    s=s+\"Srandom_z        0\"+\"\\n\"\n",
    "    s=s+\"Srandoms_wt      0\"+\"\\n\"\n",
    "    s=s+\"Srand_jk         0\"+\"\\n\"\n",
    "\n",
    "    # following passes information about randoms corresponding to density sample\n",
    "    s=s+\"Drandom_patch    0\"+\"\\n\"\n",
    "    s=s+\"Drandom_pos      0\"+\"\\n\"\n",
    "    s=s+\"Drandom_z        0\"+\"\\n\"\n",
    "    s=s+\"Drandoms_wt      0\"+\"\\n\"\n",
    "    s=s+\"drand_jk         0\"+\"\\n\"\n",
    "\n",
    "    s=s+\"distances        0\"+\"\\n\"  #not needed for PB\n",
    "    s=s+\"patch_file       0\"+\"\\n\"  #not needed for PB\n",
    "    s=s+\"out_file         \"+file_dir+\"corr_data_out/\"+file_name+\"_\"+\"\\n\"  # prefix for the output files.\n",
    "    \n",
    "    os.makedirs(file_dir+\"corr_data_out/\",exist_ok=True) #directory where outputs are saved.\n",
    "    \n",
    "    s=s+\"n_threads       0\"+\"\\n\"   # number of openmp threads to use. 0== use maximum available.\n",
    "    s=s+\"n_shape         \"+str(n_shape)+\"\\n\"  #number of galaxies in shape sample\n",
    "    s=s+\"n_density       \"+str(n_density)+\"\\n\"  #number of galaxies in density sample\n",
    "    s=s+\"n_Srand         0\"+\"\\n\"\n",
    "    s=s+\"n_Drand         0\"+\"\\n\"\n",
    "    s=s+\"rand_subsample  0\"+\"\\n\"  #subsample randoms to speed up calculations.\n",
    "    s=s+\"n_jk          \"+str(njk)+\"\\n\"  #number of jk regions. regions are assumed to be labelled from 0....njk-1\n",
    "    s=s+\"n_patch         0 \"+\"\\n\"#not needed for PB\n",
    "\n",
    "    s=s+\"binR_min        0.1\"+\"\\n\"  # rp_min for the bins\n",
    "    s=s+\"binR_max       10\"+\"\\n\" # rp_max for the bins\n",
    "    s=s+\"n_bins         10\"+\"\\n\" #number of rp bins to use\n",
    "    s=s+\"lin_bin         0\"+\"\\n\"  #linear or log bins. 0: log, 1:linear\n",
    "    s=s+\"n_p_bin         200\"+\"\\n\"  #number of pi bins to use\n",
    "    s=s+\"pmin         -100\"+\"\\n\"  # pi_min (line of sight or z separation)\n",
    "    s=s+\"pmax         100\"+\"\\n\"   # pi_max (line of sight or z separation)\n",
    "    s=s+\"z_min         0\"+\"\\n\"    \n",
    "    s=s+\"z_max         300\"+\"\\n\" \n",
    "    s=s+\"dz            0.0001\"+\"\\n\" #not needed for PB\n",
    "    s=s+\"z_sep_min     -100\"+\"\\n\"  \n",
    "    s=s+\"z_sep_max     100\"+\"\\n\"   \n",
    "    s=s+\"periodic_box  1\"+\"\\n\"\n",
    "    s=s+\"box_size     205\"+\"\\n\"  #size of the box.\n",
    "\n",
    "    fil=open(file_dir+file_name+'.inp','w')\n",
    "    fil.write(s)\n"
   ]
  },
  {
   "cell_type": "code",
   "execution_count": 5,
   "id": "willing-billion",
   "metadata": {},
   "outputs": [],
   "source": [
    "\"\"\"\n",
    "This function splits the sim box into a grid in x-y plane. Number of grid splits along each axis are given by njk1, for a total of njk1^2 sub-sample regions.\n",
    "After this, each point in data (galaxy or particle) is assigned to its sub-sample.\n",
    "\"\"\"\n",
    "def jk_box(data=[],Lbox=None,njk1=7):\n",
    "    if Lbox is None:\n",
    "        Lbox=max(data['x'])\n",
    "    xjk=np.linspace(0,Lbox,njk1+1)\n",
    "    yjk=np.linspace(0,Lbox,njk1+1)\n",
    "    jk=np.zeros(len(data))\n",
    "    jjk=0\n",
    "    for i in np.arange(njk1):\n",
    "        xil=xjk[i]\n",
    "        xih=xjk[i+1]\n",
    "        x1=data['x']>xil\n",
    "        x2=data['x']<xih\n",
    "        for j in np.arange(njk1):\n",
    "            yil=yjk[j]\n",
    "            yih=yjk[j+1]\n",
    "            y1=data['y']>yil\n",
    "            y2=data['y']<=yih\n",
    "            jk[x1*x2*y1*y2]=jjk\n",
    "            jjk+=1\n",
    "#     jk=np.array(jk,dtype=[('jk','int32')])\n",
    "    return jk\n"
   ]
  },
  {
   "cell_type": "code",
   "execution_count": 6,
   "id": "focal-concert",
   "metadata": {},
   "outputs": [],
   "source": [
    "ill_dir='/hildafs/datasets/IllustrisTNG/TNG300-1/TNG300-1_particle_data/'"
   ]
  },
  {
   "cell_type": "code",
   "execution_count": 7,
   "id": "environmental-least",
   "metadata": {},
   "outputs": [],
   "source": [
    "S_dat_name='1mil_star'\n",
    "D_dat_name='1mil_gas'"
   ]
  },
  {
   "cell_type": "code",
   "execution_count": 8,
   "id": "agricultural-commissioner",
   "metadata": {},
   "outputs": [
    {
     "data": {
      "text/html": [
       "<i>Table length=1000000</i>\n",
       "<table id=\"table23374962687040\" class=\"table-striped table-bordered table-condensed\">\n",
       "<thead><tr><th>x</th><th>y</th><th>z</th><th>mass</th><th>jk</th></tr></thead>\n",
       "<thead><tr><th>float64</th><th>float64</th><th>float64</th><th>float32</th><th>float64</th></tr></thead>\n",
       "<tr><td>184.97142509334796</td><td>82.36620462289149</td><td>0.0004184300757106685</td><td>0.00061077875</td><td>44.0</td></tr>\n",
       "<tr><td>98.15542604033374</td><td>76.77960459808783</td><td>0.0004625828991211765</td><td>0.00044722008</td><td>23.0</td></tr>\n",
       "<tr><td>29.724523039923643</td><td>133.42351390988458</td><td>0.0016041818459564588</td><td>0.00033856765</td><td>11.0</td></tr>\n",
       "<tr><td>138.46974656755452</td><td>64.45575552376482</td><td>0.001645282847858534</td><td>0.00039742608</td><td>30.0</td></tr>\n",
       "<tr><td>29.723419320332464</td><td>133.41542865155202</td><td>0.001969382922945162</td><td>0.00038760502</td><td>11.0</td></tr>\n",
       "<tr><td>98.15897718747019</td><td>76.76825714701859</td><td>0.0021171065981962405</td><td>0.0005347482</td><td>23.0</td></tr>\n",
       "<tr><td>98.15486691845335</td><td>76.76772026044443</td><td>0.0021292246548752385</td><td>0.0005509968</td><td>23.0</td></tr>\n",
       "<tr><td>86.57732396677015</td><td>66.77505943632092</td><td>0.002448944916689726</td><td>0.00038565573</td><td>16.0</td></tr>\n",
       "<tr><td>48.17413593858212</td><td>190.64708200998075</td><td>0.002596680741539132</td><td>0.00037900358</td><td>13.0</td></tr>\n",
       "<tr><td>98.15720142170402</td><td>76.76955549606414</td><td>0.002683815912269137</td><td>0.0005812028</td><td>23.0</td></tr>\n",
       "<tr><td>...</td><td>...</td><td>...</td><td>...</td><td>...</td></tr>\n",
       "<tr><td>51.06784334822565</td><td>64.09070577315312</td><td>204.9986038900928</td><td>0.00055997603</td><td>9.0</td></tr>\n",
       "<tr><td>174.48768531694157</td><td>27.281625375651007</td><td>204.99894815571204</td><td>0.00046683534</td><td>35.0</td></tr>\n",
       "<tr><td>201.73687864753467</td><td>186.6028991331394</td><td>204.99921434652796</td><td>0.0001712401</td><td>48.0</td></tr>\n",
       "<tr><td>40.950471531801604</td><td>30.531655456151338</td><td>204.9993697179063</td><td>0.00044606236</td><td>8.0</td></tr>\n",
       "<tr><td>94.35938405586613</td><td>142.1907555195646</td><td>204.99937613568497</td><td>0.0003638662</td><td>25.0</td></tr>\n",
       "<tr><td>51.07136595741678</td><td>64.08981004572338</td><td>204.9994143235832</td><td>0.00061527785</td><td>9.0</td></tr>\n",
       "<tr><td>53.20000031408112</td><td>54.104616795768685</td><td>204.9994940754207</td><td>0.00072453346</td><td>8.0</td></tr>\n",
       "<tr><td>48.12454557185915</td><td>190.67660967161748</td><td>204.99950587948868</td><td>0.0006073634</td><td>13.0</td></tr>\n",
       "<tr><td>196.822216624517</td><td>119.63821977808624</td><td>204.9997075711292</td><td>0.00074007624</td><td>46.0</td></tr>\n",
       "<tr><td>51.06976100605099</td><td>64.09406697495649</td><td>204.9998057468507</td><td>0.00055663945</td><td>9.0</td></tr>\n",
       "</table>"
      ],
      "text/plain": [
       "<Table length=1000000>\n",
       "        x                  y          ...      mass        jk  \n",
       "     float64            float64       ...    float32    float64\n",
       "------------------ ------------------ ... ------------- -------\n",
       "184.97142509334796  82.36620462289149 ... 0.00061077875    44.0\n",
       " 98.15542604033374  76.77960459808783 ... 0.00044722008    23.0\n",
       "29.724523039923643 133.42351390988458 ... 0.00033856765    11.0\n",
       "138.46974656755452  64.45575552376482 ... 0.00039742608    30.0\n",
       "29.723419320332464 133.41542865155202 ... 0.00038760502    11.0\n",
       " 98.15897718747019  76.76825714701859 ...  0.0005347482    23.0\n",
       " 98.15486691845335  76.76772026044443 ...  0.0005509968    23.0\n",
       " 86.57732396677015  66.77505943632092 ... 0.00038565573    16.0\n",
       " 48.17413593858212 190.64708200998075 ... 0.00037900358    13.0\n",
       " 98.15720142170402  76.76955549606414 ...  0.0005812028    23.0\n",
       "               ...                ... ...           ...     ...\n",
       " 51.06784334822565  64.09070577315312 ... 0.00055997603     9.0\n",
       "174.48768531694157 27.281625375651007 ... 0.00046683534    35.0\n",
       "201.73687864753467  186.6028991331394 ...  0.0001712401    48.0\n",
       "40.950471531801604 30.531655456151338 ... 0.00044606236     8.0\n",
       " 94.35938405586613  142.1907555195646 ...  0.0003638662    25.0\n",
       " 51.07136595741678  64.08981004572338 ... 0.00061527785     9.0\n",
       " 53.20000031408112 54.104616795768685 ... 0.00072453346     8.0\n",
       " 48.12454557185915 190.67660967161748 ...  0.0006073634    13.0\n",
       "  196.822216624517 119.63821977808624 ... 0.00074007624    46.0\n",
       " 51.06976100605099  64.09406697495649 ... 0.00055663945     9.0"
      ]
     },
     "execution_count": 8,
     "metadata": {},
     "output_type": "execute_result"
    }
   ],
   "source": [
    "#read in shape sample\n",
    "fname=ill_dir+S_dat_name+'_coords.p'\n",
    "with open(fname, \"rb\") as input_file:\n",
    "    S_dat = Table(pickle.load(input_file)/1000,names=('x','y','z'))\n",
    "fname=ill_dir+S_dat_name+'_masses.p'\n",
    "with open(fname, \"rb\") as input_file:\n",
    "    S_dat['mass'] = pickle.load(input_file)\n",
    "S_dat['jk'] = jk_box(data=S_dat)\n",
    "S_dat.sort('z')\n",
    "# S_dat['e1']=\n",
    "# S_dat['e2']=\n",
    "S_dat"
   ]
  },
  {
   "cell_type": "code",
   "execution_count": 9,
   "id": "wireless-designer",
   "metadata": {},
   "outputs": [
    {
     "data": {
      "text/html": [
       "<i>Table length=1000000</i>\n",
       "<table id=\"table23374962628928\" class=\"table-striped table-bordered table-condensed\">\n",
       "<thead><tr><th>x</th><th>y</th><th>z</th><th>mass</th><th>jk</th></tr></thead>\n",
       "<thead><tr><th>float64</th><th>float64</th><th>float64</th><th>float32</th><th>float64</th></tr></thead>\n",
       "<tr><td>201.74382199482628</td><td>186.62446755558952</td><td>0.0010746587679719148</td><td>0.00042265223</td><td>48.0</td></tr>\n",
       "<tr><td>112.03957380171954</td><td>133.99870675815566</td><td>0.001099151768957717</td><td>0.0009420891</td><td>25.0</td></tr>\n",
       "<tr><td>75.31632237874992</td><td>115.09074921327925</td><td>0.0012527712770938157</td><td>0.0008836131</td><td>17.0</td></tr>\n",
       "<tr><td>109.49981485021705</td><td>35.457368290047995</td><td>0.002066933027210227</td><td>0.00072004244</td><td>22.0</td></tr>\n",
       "<tr><td>194.16895018996678</td><td>78.28696891093165</td><td>0.0028902545514723813</td><td>0.0010298735</td><td>44.0</td></tr>\n",
       "<tr><td>117.45813481975708</td><td>0.4793332953732586</td><td>0.0029688639588465638</td><td>0.0005414264</td><td>28.0</td></tr>\n",
       "<tr><td>194.9630292854405</td><td>34.77584206365508</td><td>0.0029820121002203355</td><td>0.00063969987</td><td>43.0</td></tr>\n",
       "<tr><td>184.97121887594722</td><td>82.42676344555392</td><td>0.003324822899680307</td><td>0.00058180897</td><td>44.0</td></tr>\n",
       "<tr><td>59.41124261868263</td><td>117.98134902266382</td><td>0.0037107428850160326</td><td>0.0010569126</td><td>18.0</td></tr>\n",
       "<tr><td>84.47751108290205</td><td>124.8483206853916</td><td>0.0037273782679963664</td><td>0.0007327164</td><td>18.0</td></tr>\n",
       "<tr><td>...</td><td>...</td><td>...</td><td>...</td><td>...</td></tr>\n",
       "<tr><td>131.09033389952765</td><td>110.27183436339202</td><td>204.9982582888335</td><td>0.00044936562</td><td>31.0</td></tr>\n",
       "<tr><td>38.3584004410254</td><td>28.210366249181586</td><td>204.99835670805692</td><td>0.0006978238</td><td>7.0</td></tr>\n",
       "<tr><td>64.92300722558193</td><td>11.33228362069731</td><td>204.99931955929168</td><td>0.0004996639</td><td>14.0</td></tr>\n",
       "<tr><td>197.10691797395256</td><td>167.75074262332197</td><td>204.99937081769824</td><td>0.00088094966</td><td>47.0</td></tr>\n",
       "<tr><td>35.32253774280213</td><td>7.312466548548685</td><td>204.9994345279079</td><td>0.00067955046</td><td>7.0</td></tr>\n",
       "<tr><td>94.524006677968</td><td>142.53947273112416</td><td>204.99945307697078</td><td>0.0007943454</td><td>25.0</td></tr>\n",
       "<tr><td>25.552701189431474</td><td>91.0744110526518</td><td>204.999593255328</td><td>0.0004083918</td><td>3.0</td></tr>\n",
       "<tr><td>190.5387480136756</td><td>27.112543391025678</td><td>204.9998287455719</td><td>0.00084384624</td><td>42.0</td></tr>\n",
       "<tr><td>179.6424859154281</td><td>154.94785700682633</td><td>204.99998355199853</td><td>0.000643187</td><td>47.0</td></tr>\n",
       "<tr><td>5.00566449439393</td><td>83.08442807773018</td><td>204.99999493776966</td><td>0.00093738403</td><td>2.0</td></tr>\n",
       "</table>"
      ],
      "text/plain": [
       "<Table length=1000000>\n",
       "        x                  y          ...      mass        jk  \n",
       "     float64            float64       ...    float32    float64\n",
       "------------------ ------------------ ... ------------- -------\n",
       "201.74382199482628 186.62446755558952 ... 0.00042265223    48.0\n",
       "112.03957380171954 133.99870675815566 ...  0.0009420891    25.0\n",
       " 75.31632237874992 115.09074921327925 ...  0.0008836131    17.0\n",
       "109.49981485021705 35.457368290047995 ... 0.00072004244    22.0\n",
       "194.16895018996678  78.28696891093165 ...  0.0010298735    44.0\n",
       "117.45813481975708 0.4793332953732586 ...  0.0005414264    28.0\n",
       " 194.9630292854405  34.77584206365508 ... 0.00063969987    43.0\n",
       "184.97121887594722  82.42676344555392 ... 0.00058180897    44.0\n",
       " 59.41124261868263 117.98134902266382 ...  0.0010569126    18.0\n",
       " 84.47751108290205  124.8483206853916 ...  0.0007327164    18.0\n",
       "               ...                ... ...           ...     ...\n",
       "131.09033389952765 110.27183436339202 ... 0.00044936562    31.0\n",
       "  38.3584004410254 28.210366249181586 ...  0.0006978238     7.0\n",
       " 64.92300722558193  11.33228362069731 ...  0.0004996639    14.0\n",
       "197.10691797395256 167.75074262332197 ... 0.00088094966    47.0\n",
       " 35.32253774280213  7.312466548548685 ... 0.00067955046     7.0\n",
       "   94.524006677968 142.53947273112416 ...  0.0007943454    25.0\n",
       "25.552701189431474   91.0744110526518 ...  0.0004083918     3.0\n",
       " 190.5387480136756 27.112543391025678 ... 0.00084384624    42.0\n",
       " 179.6424859154281 154.94785700682633 ...   0.000643187    47.0\n",
       "  5.00566449439393  83.08442807773018 ... 0.00093738403     2.0"
      ]
     },
     "execution_count": 9,
     "metadata": {},
     "output_type": "execute_result"
    }
   ],
   "source": [
    "# read in density sample.\n",
    "fname=ill_dir+D_dat_name+'_coords.p'\n",
    "with open(fname, \"rb\") as input_file:\n",
    "    D_dat = Table(pickle.load(input_file)/1000,names=('x','y','z'))\n",
    "fname=ill_dir+D_dat_name+'_masses.p'\n",
    "with open(fname, \"rb\") as input_file:\n",
    "    D_dat['mass'] = pickle.load(input_file)\n",
    "D_dat['jk'] = jk_box(data=D_dat)\n",
    "D_dat.sort('z')\n",
    "\n",
    "D_dat"
   ]
  },
  {
   "cell_type": "code",
   "execution_count": 10,
   "id": "atlantic-italic",
   "metadata": {},
   "outputs": [
    {
     "data": {
      "text/plain": [
       "False"
      ]
     },
     "execution_count": 10,
     "metadata": {},
     "output_type": "execute_result"
    }
   ],
   "source": [
    "'e1' in S_dat.columns"
   ]
  },
  {
   "cell_type": "code",
   "execution_count": 17,
   "id": "another-reunion",
   "metadata": {},
   "outputs": [],
   "source": [
    "\"\"\"\n",
    "Function to write data files in format that can be read by corr_pc\n",
    "\"\"\"\n",
    "def write_data(data,file_name,file_dir,wt_col=None):\n",
    "    file_name=file_dir+file_name\n",
    "    np.savetxt(file_name+'_pos.dat',np.column_stack((data['x'],data['y']))) #x,y position of galaxies\n",
    "    np.savetxt(file_name+'_z.dat',data['z']) # z position of galaxies\n",
    "    if 'jk' in data.columns:\n",
    "        np.savetxt(file_name+'_jk.dat',data['jk'],fmt='%i') #jackknife is read as integer\n",
    "    if 'e1' in data.columns: #ellipticities. corr_pc takes e1, e2\n",
    "        np.savetxt(file_name+'_e.dat',np.column_stack((data['e1'],data['e2'])))\n",
    "    if wt_col is not None: #wt to be applied to each galaxy/particle.\n",
    "        wt=data[wt_col]*1.\n",
    "        wt/=wt.mean()\n",
    "        np.savetxt(file_name+'_wt.dat',wt)"
   ]
  },
  {
   "cell_type": "code",
   "execution_count": 18,
   "id": "infectious-highlight",
   "metadata": {},
   "outputs": [],
   "source": [
    "file_nameS=file_name+'_shape'\n",
    "write_data(data=S_dat,file_name=file_nameS,file_dir=file_dir,wt_col='mass')\n",
    "\n",
    "file_nameD=file_name+'_density'\n",
    "write_data(data=D_dat,file_name=file_nameD,file_dir=file_dir,wt_col='mass')\n"
   ]
  },
  {
   "cell_type": "code",
   "execution_count": 19,
   "id": "double-speaker",
   "metadata": {},
   "outputs": [
    {
     "data": {
      "text/plain": [
       "48.0"
      ]
     },
     "execution_count": 19,
     "metadata": {},
     "output_type": "execute_result"
    }
   ],
   "source": [
    "S_dat['jk'].max()"
   ]
  },
  {
   "cell_type": "code",
   "execution_count": 22,
   "id": "efficient-anniversary",
   "metadata": {},
   "outputs": [],
   "source": [
    "inp_gen(file_dir=file_dir,file_name=file_name,file_nameS=file_nameS,file_nameD=file_nameD,corr=0,n_shape=len(S_dat),n_density=len(D_dat),\n",
    "        njk=int(S_dat['jk'].max()+1),do_jk=1) \n",
    "#corr=0 will only do wgg like correlation, no shapes. set corr=1 for wg+ and wgg"
   ]
  },
  {
   "cell_type": "code",
   "execution_count": null,
   "id": "atmospheric-proxy",
   "metadata": {},
   "outputs": [],
   "source": [
    "_=hist(S_dat['jk'],int(S_dat['jk'].max()+1))"
   ]
  },
  {
   "cell_type": "code",
   "execution_count": null,
   "id": "checked-expansion",
   "metadata": {},
   "outputs": [],
   "source": []
  }
 ],
 "metadata": {
  "kernelspec": {
   "display_name": "conda",
   "language": "python",
   "name": "conda"
  },
  "language_info": {
   "codemirror_mode": {
    "name": "ipython",
    "version": 3
   },
   "file_extension": ".py",
   "mimetype": "text/x-python",
   "name": "python",
   "nbconvert_exporter": "python",
   "pygments_lexer": "ipython3",
   "version": "3.8.2"
  }
 },
 "nbformat": 4,
 "nbformat_minor": 5
}
