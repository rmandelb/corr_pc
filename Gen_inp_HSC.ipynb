{
 "cells": [
  {
   "cell_type": "code",
   "execution_count": 1,
   "id": "declared-woman",
   "metadata": {},
   "outputs": [],
   "source": [
    "import os\n",
    "from astropy.table import Table\n",
    "import pickle"
   ]
  },
  {
   "cell_type": "code",
   "execution_count": 2,
   "id": "earned-confidentiality",
   "metadata": {},
   "outputs": [],
   "source": [
    "file_dir='./temp/hsc_test/' #directory where files for corr_pc will be placed. I recommend using full path rather than relative path as here.\n",
    "file_name='hsc_test'  #prefix to be appended to the files being saved. Should be different for different datasets.\n",
    "\n",
    "os.makedirs(file_dir,exist_ok=True)"
   ]
  },
  {
   "cell_type": "code",
   "execution_count": 3,
   "id": "e1664dd7",
   "metadata": {},
   "outputs": [],
   "source": [
    "from astropy.cosmology import Planck15 as cosmo\n",
    "cosmo_h=cosmo.clone(H0=100)"
   ]
  },
  {
   "cell_type": "code",
   "execution_count": 4,
   "id": "a58afb5f",
   "metadata": {},
   "outputs": [],
   "source": [
    "#this is cosmology table, passed inside inp file with distances keyword. order of columns matter\n",
    "z=np.linspace(0,5,5001)\n",
    "H_z=cosmo_h.H(z).value\n",
    "D_A=cosmo_h.angular_diameter_distance(z).value\n",
    "D_C=cosmo_h.comoving_transverse_distance(z).value\n",
    "D_M=cosmo_h.luminosity_distance(z).value\n",
    "D_Z = (z,H_z,D_A,D_C,D_M)\n",
    "D_Z=np.column_stack(D_Z)\n",
    "np.savetxt('./temp/Distances_planck15.dat', D_Z)"
   ]
  },
  {
   "cell_type": "code",
   "execution_count": 5,
   "id": "plain-ecuador",
   "metadata": {},
   "outputs": [],
   "source": [
    "\"\"\" this function generates the input file for corr_pc\n",
    " corr_pc takes two samples to compute cross correlations. \n",
    " Shape sample: Sample of galaxies with shapes. For density correlations it is not necessary to pass shapes. \n",
    "               Prefix of filenames for this sample should be passed vias file_nameS\n",
    " Density sample: Sample of galaxies/particles that trace density field. For density correlations it is not necessary to pass shapes. \n",
    "                 If shapes are passed for this sample, w++ can be computed. Prefix of filenames for this sample should be passed vias file_nameD.\n",
    "                 If auto correlation is to be computed, simply set file_nameD=file_nameS.\n",
    " file_name: This is the prefix corr_pc will use to save the output files containing two point correlations. Input file to be passed to corr_pc is \n",
    "            also saved with this name. input file is saved in file_dir and the outputs are saved in new directory, file_dir+corr_data_out.\n",
    " corr: two point correlation to be computed. This should be density-density (wgg,wmm), shape-density (wg+) or shape-shape(w++). \n",
    "        When computing wg+, corr_pc will also compute and save wgg by default since pair counting is done anyways. \n",
    "        When doing w++, wg+ and wgg are also computed and saved.\n",
    " n_shape, n_density: number of galaxies in the shape sample and density sample respectively.\n",
    " do_jk: Whether to do jackknifing or not.\n",
    " njk: number of jackknife regions. jackknife regions are assumed to be labelled from 0...njk-1.\n",
    "\"\"\"\n",
    "def inp_gen(file_dir,file_name,file_nameS,file_nameD,corr=1,n_shape=0,n_density=0,njk=100,do_jk=1):\n",
    "    s=\"\"\n",
    "    s=s+\"which_corr     \"+str(corr)+\"\\n\" #0: density-density, 1: ia or WL: shape-density, 2 ia:shape-shape\n",
    "    s=s+\"coordinates    3\"+\"\\n\"  #0: rp-pi, 3: rp\n",
    "    s=s+\"estimator      4\"+\"\\n\"  #0:landy-szalay (LS): cross. works for both auto and cross correlations. For auto, pass same filenames for shape and density samples \n",
    "                                 # 1: LS:auto, for auto correlation only\n",
    "                                # 4: LS like, for mean quantities, i.e. for SD/RR like terms, we instead have SD/SD like terms.\n",
    "    s=s+\"data_sorted     1\"+\"\\n\"  #0: no sorting, 1:sorted by z, 2:sorted by dec (y)\n",
    "    s=s+\"use_comoving    1\"+\"\\n\" #use comving distances from the table\n",
    "    s=s+\"do_jk           \"+str(do_jk)+\"\\n\" #0: no jackknife, 1: do jackknife. jk regions must be passed in a file. are assumed to be from 0..njk-1\n",
    "    s=s+\"sig_crit        0\"+\"\\n\" #for weak lensing only. 0: no sig crit; 1: calc sig crit for each pair, 2: use g1 wt as sig crit\n",
    "\n",
    "    #following passes information about shape sample\n",
    "    s=s+\"shape_pos       \"+file_dir+file_nameS+'_pos.dat'+\"\\n\"  # x, y coordinates\n",
    "    s=s+\"shape_z         \"+file_dir+file_nameS+'_z.dat'+\"\\n\"    # z coordinate\n",
    "    s=s+\"shape_e         \"+file_dir+file_nameS+'_e.dat'+\"\\n\"    # e1, e2\n",
    "#     s=s+\"shape_wt         \"+file_dir+file_nameS+'_wt.dat'+\"\\n\"  # weights on galaxies. If no weighting, pass 0\n",
    "    s=s+\"shape_wt         0\"+\"\\n\"\n",
    "    s=s+\"shape_jk        0\"+\"\\n\"   # jackknife regions\n",
    "\n",
    "    # following passes information about density sample\n",
    "    s=s+\"density_patch   0\"+\"\\n\" #for weak lensing, not important for ia, gg corrs.\n",
    "    s=s+\"density_pos     \"+file_dir+file_nameD+'_pos.dat'+\"\\n\"  # x, y coordinates\n",
    "    s=s+\"density_z       \"+file_dir+file_nameD+'_z.dat'+\"\\n\"    # z coordinate\n",
    "    s=s+\"density_wt       0\"+\"\\n\"  # weights on galaxies/particles. If no weighting, pass 0\n",
    "#     s=s+\"density_wt       \"+file_dir+file_nameD+'_wt.dat'+\"\\n\"  # weights on galaxies/particles. If no weighting, pass 0\n",
    "    s=s+\"density_jk      0\"+\"\\n\"   # jackknife regions    \n",
    "    s=s+\"density_e      0\"+\"\\n\"   #if doing shape-shape, this file should be passed. # e1, e2\n",
    "\n",
    "    # following passes information about randoms corresponding to shape sample\n",
    "    s=s+\"Srandom_pos      0\"+\"\\n\"\n",
    "    s=s+\"Srandom_z        0\"+\"\\n\"\n",
    "    s=s+\"Srandoms_wt      0\"+\"\\n\"\n",
    "    s=s+\"Srand_jk         0\"+\"\\n\"\n",
    "\n",
    "    # following passes information about randoms corresponding to density sample\n",
    "    s=s+\"Drandom_patch    0\"+\"\\n\"\n",
    "    s=s+\"Drandom_pos      0\"+\"\\n\"\n",
    "    s=s+\"Drandom_z        0\"+\"\\n\"\n",
    "    s=s+\"Drandoms_wt      0\"+\"\\n\"\n",
    "    s=s+\"drand_jk         0\"+\"\\n\"\n",
    "\n",
    "    s=s+\"distances        ./temp/Distances_planck15.dat\"+\"\\n\"  #not needed for PB\n",
    "    s=s+\"patch_file       0\"+\"\\n\"  #not needed for PB\n",
    "    s=s+\"out_file         \"+file_dir+\"corr_data_out/\"+file_name+\"_\"+\"\\n\"  # prefix for the output files.\n",
    "    \n",
    "    os.makedirs(file_dir+\"corr_data_out/\",exist_ok=True) #directory where outputs are saved.\n",
    "    \n",
    "    s=s+\"n_threads       0\"+\"\\n\"   # number of openmp threads to use. 0== use maximum available.\n",
    "    s=s+\"n_shape         \"+str(n_shape)+\"\\n\"  #number of galaxies in shape sample\n",
    "    s=s+\"n_density       \"+str(n_density)+\"\\n\"  #number of galaxies in density sample\n",
    "    s=s+\"n_Srand         0\"+\"\\n\"\n",
    "    s=s+\"n_Drand         0\"+\"\\n\"\n",
    "    s=s+\"rand_subsample  0\"+\"\\n\"  #subsample randoms to speed up calculations.\n",
    "    s=s+\"n_jk          \"+str(njk)+\"\\n\"  #number of jk regions. regions are assumed to be labelled from 0....njk-1\n",
    "    s=s+\"n_patch         0 \"+\"\\n\"#not needed for PB/HSC\n",
    "\n",
    "    s=s+\"binR_min        0.1\"+\"\\n\"  # rp_min for the bins\n",
    "    s=s+\"binR_max       10\"+\"\\n\" # rp_max for the bins\n",
    "    s=s+\"n_bins         10\"+\"\\n\" #number of rp bins to use\n",
    "    s=s+\"lin_bin         0\"+\"\\n\"  #linear or log bins. 0: log, 1:linear\n",
    "    s=s+\"n_p_bin         1\"+\"\\n\"  #number of pi bins to use.. for WL leave to 1.\n",
    "    s=s+\"pmin         0\"+\"\\n\"  # pi_min (line of sight or z separation)\n",
    "    s=s+\"pmax         0\"+\"\\n\"   # pi_max (line of sight or z separation)\n",
    "    s=s+\"z_min         0\"+\"\\n\"    \n",
    "    s=s+\"z_max         4\"+\"\\n\" \n",
    "    s=s+\"dz            0.001\"+\"\\n\" #resolution of cosmology table.\n",
    "    s=s+\"z_sep_min     -100\"+\"\\n\"  \n",
    "    s=s+\"z_sep_max     100\"+\"\\n\"   \n",
    "    s=s+\"periodic_box  0\"+\"\\n\"\n",
    "    s=s+\"box_size     0\"+\"\\n\"  #size of the box.\n",
    "\n",
    "    fil=open(file_dir+file_name+'.inp','w')\n",
    "    fil.write(s)\n"
   ]
  },
  {
   "cell_type": "code",
   "execution_count": 6,
   "id": "focal-concert",
   "metadata": {},
   "outputs": [],
   "source": [
    "hsc_dir='/hildafs/projects/phy200017p/ztq1996/ztq1996/hsc/'"
   ]
  },
  {
   "cell_type": "code",
   "execution_count": 7,
   "id": "environmental-least",
   "metadata": {},
   "outputs": [],
   "source": [
    "S_dat_name='r025_rot00_zbin2.fits'"
   ]
  },
  {
   "cell_type": "code",
   "execution_count": 8,
   "id": "940adcbd",
   "metadata": {},
   "outputs": [],
   "source": [
    "from astropy.io import fits"
   ]
  },
  {
   "cell_type": "code",
   "execution_count": 9,
   "id": "66c44000",
   "metadata": {},
   "outputs": [
    {
     "name": "stdout",
     "output_type": "stream",
     "text": [
      "[( 8279,     2, 36411452835235108,  30.62002, -6.376178,  0.5943237 , -0.07674798, 0.00756096,  0.00193293, -0.00612652, 4.789851, 0.714 )\n",
      " ( 8279,     3, 36411452835235125,  30.61326, -6.375836,  0.89743423,  0.3828571 , 0.00789049, -0.00303394, -0.00149775, 3.258304, 0.3827)\n",
      " ( 8279,     4, 36411452835235146,  30.62137, -6.37493 ,  0.13051362,  0.80013806, 0.00694159,  0.0030251 , -0.00234604, 5.383868, 0.6425)\n",
      " ...\n",
      " (16011, 32831, 70418247970748448, 247.1476 , 44.33325 ,  0.7923786 ,  0.10393251, 0.00550792,  0.00336679,  0.00675744, 5.18838 , 0.7885)\n",
      " (16011, 32834, 70418247970748684, 247.1574 , 44.338   , -0.6247564 , -0.24049284, 0.01167254,  0.00215797,  0.00726533, 5.601186, 0.8664)\n",
      " (16011, 32835, 70418247970748695, 247.1489 , 44.33728 ,  0.32006502, -0.32866257, 0.00719187,  0.00081219,  0.00230956, 5.949475, 0.6425)]\n"
     ]
    }
   ],
   "source": [
    "with fits.open(hsc_dir+S_dat_name) as f:\n",
    "    data=f[1].data\n",
    "    print(data)\n",
    "    S_dat=Table(data)"
   ]
  },
  {
   "cell_type": "code",
   "execution_count": 10,
   "id": "8e7d8f08",
   "metadata": {},
   "outputs": [],
   "source": [
    "S_dat['z']=S_dat['z_source_mock']\n",
    "S_dat['ra']=S_dat['ra_mock']\n",
    "S_dat['dec']=S_dat['dec_mock']\n",
    "S_dat['e1']=S_dat['e1_mock']\n",
    "S_dat['e2']=S_dat['e2_mock']\n",
    "\n",
    "S_dat.sort('z')"
   ]
  },
  {
   "cell_type": "code",
   "execution_count": 11,
   "id": "300006b0",
   "metadata": {},
   "outputs": [],
   "source": [
    "S_dat=S_dat[:int(1e4)]"
   ]
  },
  {
   "cell_type": "code",
   "execution_count": 12,
   "id": "ffdec25e",
   "metadata": {},
   "outputs": [
    {
     "data": {
      "image/png": "[encoded data removed]",
      "text/plain": [
       "<Figure size 1500x1125 with 1 Axes>"
      ]
     },
     "metadata": {},
     "output_type": "display_data"
    }
   ],
   "source": [
    "_=hist2d(S_dat['ra_mock'],S_dat['dec_mock'],1000,norm=LogNorm())"
   ]
  },
  {
   "cell_type": "raw",
   "id": "d637dd82",
   "metadata": {},
   "source": [
    "# read in density sample.\n",
    "with fits.open(hsc_dir+D_dat_name) as f:\n",
    "    data=f[1].data\n",
    "    print(data)\n",
    "    D_dat=Table(data)\n",
    "D_dat.sort('z')\n",
    "\n",
    "D_dat"
   ]
  },
  {
   "cell_type": "code",
   "execution_count": 13,
   "id": "69b054ee",
   "metadata": {},
   "outputs": [],
   "source": [
    "D_dat=S_dat"
   ]
  },
  {
   "cell_type": "code",
   "execution_count": 14,
   "id": "f4e4c745",
   "metadata": {},
   "outputs": [
    {
     "data": {
      "text/plain": [
       "<TableColumns names=('tract_id','irow_in_original_fits_file','object_id','ra_mock','dec_mock','e1_mock','e2_mock','shear1_sim','shear2_sim','kappa','weight','z_source_mock','z','ra','dec','e1','e2')>"
      ]
     },
     "execution_count": 14,
     "metadata": {},
     "output_type": "execute_result"
    }
   ],
   "source": [
    "S_dat.columns"
   ]
  },
  {
   "cell_type": "code",
   "execution_count": 15,
   "id": "atlantic-italic",
   "metadata": {},
   "outputs": [
    {
     "data": {
      "text/plain": [
       "True"
      ]
     },
     "execution_count": 15,
     "metadata": {},
     "output_type": "execute_result"
    }
   ],
   "source": [
    "'e1' in S_dat.columns"
   ]
  },
  {
   "cell_type": "code",
   "execution_count": 19,
   "id": "another-reunion",
   "metadata": {},
   "outputs": [],
   "source": [
    "\"\"\"\n",
    "Function to write data files in format that can be read by corr_pc\n",
    "\"\"\"\n",
    "def write_data(data,file_name,file_dir,wt_col=None):\n",
    "    file_name=file_dir+file_name\n",
    "    np.savetxt(file_name+'_pos.dat',np.column_stack((data['ra'],data['dec']))) #ra,dec position of galaxies\n",
    "    np.savetxt(file_name+'_z.dat',data['z']) # z position of galaxies\n",
    "    if 'jk' in data.columns:\n",
    "        np.savetxt(file_name+'_jk.dat',data['jk'],fmt='%i') #jackknife is read as integer\n",
    "    if 'e1' in data.columns: #ellipticities. corr_pc takes e1, e2\n",
    "        np.savetxt(file_name+'_e.dat',np.column_stack((data['e1'],data['e2']*-1)))\n",
    "    if wt_col is not None: #wt to be applied to each galaxy/particle.\n",
    "        wt=data[wt_col]*1.\n",
    "        wt/=wt.mean()\n",
    "        np.savetxt(file_name+'_wt.dat',wt)"
   ]
  },
  {
   "cell_type": "code",
   "execution_count": 20,
   "id": "infectious-highlight",
   "metadata": {},
   "outputs": [],
   "source": [
    "file_nameS=file_name+'_shape'\n",
    "write_data(data=S_dat,file_name=file_nameS,file_dir=file_dir,)#wt_col='mass')\n",
    "\n",
    "# file_nameD=file_name+'_density'\n",
    "# write_data(data=D_dat,file_name=file_nameD,file_dir=file_dir,wt_col='mass')\n",
    "file_nameD=file_nameS"
   ]
  },
  {
   "cell_type": "code",
   "execution_count": 21,
   "id": "efficient-anniversary",
   "metadata": {},
   "outputs": [],
   "source": [
    "inp_gen(file_dir=file_dir,file_name=file_name,file_nameS=file_nameS,file_nameD=file_nameD,corr=1,n_shape=len(S_dat),n_density=len(D_dat),\n",
    "        njk=0,do_jk=0) \n",
    "#corr=0 will only do wgg like correlation, no shapes. set corr=1 for wg+ and wgg"
   ]
  },
  {
   "cell_type": "code",
   "execution_count": null,
   "id": "3fc726ce",
   "metadata": {},
   "outputs": [],
   "source": []
  },
  {
   "cell_type": "code",
   "execution_count": null,
   "id": "6875828a",
   "metadata": {},
   "outputs": [],
   "source": []
  },
  {
   "cell_type": "code",
   "execution_count": null,
   "id": "524d0a5e",
   "metadata": {},
   "outputs": [],
   "source": []
  }
 ],
 "metadata": {
  "kernelspec": {
   "display_name": "intel",
   "language": "python",
   "name": "intel"
  },
  "language_info": {
   "codemirror_mode": {
    "name": "ipython",
    "version": 3
   },
   "file_extension": ".py",
   "mimetype": "text/x-python",
   "name": "python",
   "nbconvert_exporter": "python",
   "pygments_lexer": "ipython3",
   "version": "3.9.12"
  }
 },
 "nbformat": 4,
 "nbformat_minor": 5
}
