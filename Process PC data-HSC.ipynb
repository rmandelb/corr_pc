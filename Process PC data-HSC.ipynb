{
 "cells": [
  {
   "cell_type": "code",
   "execution_count": 1,
   "id": "structured-oregon",
   "metadata": {},
   "outputs": [],
   "source": [
    "def jk_read(dataset='',var=None,njk=100,auto_cross='_cross',bins='_bins',\n",
    "            home='',corr='_final',skiprows=0,**kwargs):\n",
    "    data_jk={}\n",
    "    filename=dataset\n",
    "    try:\n",
    "        data_jk['data']=np.genfromtxt(home+filename+bins+auto_cross+'_jk_final.dat',\n",
    "                                      names=True,skip_header=skiprows)\n",
    "    except:\n",
    "        print ('file not found',home+filename+bins+auto_cross+'_jk_final.dat')\n",
    "    try:\n",
    "        data_jk['data0']=np.genfromtxt(home+filename+bins+auto_cross+corr+'.dat',\n",
    "                                       names=True,skip_header=skiprows)\n",
    "    except:\n",
    "        print ('file not found',home+filename+bins+auto_cross+corr+'.dat')\n",
    "    for i in np.arange(njk):\n",
    "        data_jk[i]=np.genfromtxt(home+filename+bins+auto_cross+'_jk'+str(i)+corr+'.dat',names=True,\n",
    "                                 skip_header=skiprows)\n",
    "    cc=cov_corr()\n",
    "    if var and njk>0:\n",
    "        data_jk['cov']={}\n",
    "        data_jk['corr']={}\n",
    "        for v in var:\n",
    "            cov,corr=cc.dict_cov(dic=data_jk,var=v,stack=1,ignore_keys=['data','data0','cov','corr'])\n",
    "            cov*=njk-1.\n",
    "            data_jk['cov'][v]=cov\n",
    "            data_jk['corr'][v]=corr\n",
    "    return data_jk\n"
   ]
  },
  {
   "cell_type": "code",
   "execution_count": 2,
   "id": "extended-pennsylvania",
   "metadata": {},
   "outputs": [],
   "source": [
    "file_home='./temp/hsc_test/corr_data_out/'\n",
    "file_name='hsc_test'"
   ]
  },
  {
   "cell_type": "code",
   "execution_count": 3,
   "id": "dirty-balance",
   "metadata": {},
   "outputs": [],
   "source": [
    "njk=0"
   ]
  },
  {
   "cell_type": "code",
   "execution_count": 4,
   "id": "impressed-dining",
   "metadata": {},
   "outputs": [
    {
     "name": "stdout",
     "output_type": "stream",
     "text": [
      "file not found ./temp/hsc_test/corr_data_out/hsc_test_bins_cross_jk_final.dat\n"
     ]
    }
   ],
   "source": [
    "w_jk=jk_read(dataset=file_name,var=['wgg','wgp'],njk=njk,auto_cross='_cross',bins='_bins',\n",
    "            home=file_home,corr='_final',skiprows=0)"
   ]
  },
  {
   "cell_type": "code",
   "execution_count": 5,
   "id": "spread-singing",
   "metadata": {},
   "outputs": [
    {
     "data": {
      "text/plain": [
       "dict_keys(['data0'])"
      ]
     },
     "execution_count": 5,
     "metadata": {},
     "output_type": "execute_result"
    }
   ],
   "source": [
    "w_jk.keys()"
   ]
  },
  {
   "cell_type": "code",
   "execution_count": 6,
   "id": "5f19894a",
   "metadata": {},
   "outputs": [
    {
     "data": {
      "text/plain": [
       "array([(0.129245,    3328., 0., 0.,  0.00934529,  0., -0.00680549, -0., 0., 0., 0., 0., 0., 0., -6.88021, -0., 0.,    3328., 0.1     ,  0.158489, 0.),\n",
       "       (0.204839,    7185., 0., 0., -0.00258386, -0.,  0.00872609,  0., 0., 0., 0., 0., 0., 0., -6.86842, -0., 0.,    7185., 0.158489,  0.251189, 0.),\n",
       "       (0.324648,   15355., 0., 0., -0.00316065, -0., -0.00174473, -0., 0., 0., 0., 0., 0., 0., -6.90942, -0., 0.,   15355., 0.251189,  0.398107, 0.),\n",
       "       (0.514532,   31891., 0., 0., -0.00308426, -0.,  0.00314672,  0., 0., 0., 0., 0., 0., 0., -6.9076 , -0., 0.,   31891., 0.398107,  0.630957, 0.),\n",
       "       (0.815479,   67748., 0., 0., -0.00120796, -0., -0.00215722, -0., 0., 0., 0., 0., 0., 0., -6.9079 , -0., 0.,   67748., 0.630957,  1.      , 0.),\n",
       "       (1.29245 ,  132112., 0., 0.,  0.00112028,  0.,  0.00357882,  0., 0., 0., 0., 0., 0., 0., -6.90481, -0., 0.,  132112., 1.      ,  1.58489 , 0.),\n",
       "       (2.04839 ,  255198., 0., 0.,  0.0012611 ,  0., -0.0005873 , -0., 0., 0., 0., 0., 0., 0., -6.88166, -0., 0.,  255198., 1.58489 ,  2.51189 , 0.),\n",
       "       (3.24648 ,  513393., 0., 0.,  0.00048746,  0.,  0.00085679,  0., 0., 0., 0., 0., 0., 0., -6.87106, -0., 0.,  513393., 2.51189 ,  3.98107 , 0.),\n",
       "       (5.14532 , 1002919., 0., 0., -0.000622  , -0., -0.00039801, -0., 0., 0., 0., 0., 0., 0., -6.86383, -0., 0., 1002920., 3.98107 ,  6.30957 , 0.),\n",
       "       (8.15479 , 1746213., 0., 0., -0.00086452, -0., -0.00016821, -0., 0., 0., 0., 0., 0., 0., -6.86343, -0., 0., 1746210., 6.30957 , 10.      , 0.)],\n",
       "      dtype=[('rp', '<f8'), ('npairs', '<f8'), ('wgg', '<f8'), ('wgg_err', '<f8'), ('wgp', '<f8'), ('wgp_err', '<f8'), ('wgx', '<f8'), ('wgx_err', '<f8'), ('wpp', '<f8'), ('wpp_err', '<f8'), ('wxx', '<f8'), ('wxx_err', '<f8'), ('wpx', '<f8'), ('wpx_err', '<f8'), ('theta', '<f8'), ('theta_err', '<f8'), ('LS_err', '<f8'), ('wt_npair', '<f8'), ('rp_low', '<f8'), ('rp_high', '<f8'), ('sig_crit', '<f8')])"
      ]
     },
     "execution_count": 6,
     "metadata": {},
     "output_type": "execute_result"
    }
   ],
   "source": [
    "w_jk['data0']"
   ]
  },
  {
   "cell_type": "code",
   "execution_count": 7,
   "id": "bf74632f",
   "metadata": {},
   "outputs": [
    {
     "data": {
      "text/plain": [
       "array([   3328.,    7185.,   15355.,   31891.,   67748.,  132112.,\n",
       "        255198.,  513393., 1002919., 1746213.])"
      ]
     },
     "execution_count": 7,
     "metadata": {},
     "output_type": "execute_result"
    }
   ],
   "source": [
    "w_jk['data0']['npairs']"
   ]
  },
  {
   "cell_type": "code",
   "execution_count": 8,
   "id": "62341d4c",
   "metadata": {},
   "outputs": [
    {
     "data": {
      "text/plain": [
       "array([ 0.00934529, -0.00258386, -0.00316065, -0.00308426, -0.00120796,\n",
       "        0.00112028,  0.0012611 ,  0.00048746, -0.000622  , -0.00086452])"
      ]
     },
     "execution_count": 8,
     "metadata": {},
     "output_type": "execute_result"
    }
   ],
   "source": [
    "w_jk['data0']['wgp']"
   ]
  },
  {
   "cell_type": "markdown",
   "id": "indian-underwear",
   "metadata": {},
   "source": [
    "'data': contains the jackknife mean and the jackknife errorbars\n",
    "\n",
    "'data0': Contains the full sample measurements. Do not use the errorbars from this set.\n",
    "\n",
    "0....njk-1: Contains measurements from the respective jackknife regions.\n",
    "\n",
    "cov, corr: Covariance and correlation matrices for the variables passed."
   ]
  },
  {
   "cell_type": "raw",
   "id": "54c61207",
   "metadata": {},
   "source": [
    "#following are for debugging if needed\n",
    "RRjk=jk_read(dataset=file_name,var=['wgg'],njk=njk,auto_cross='_cross',bins='_bins',\n",
    "            home=file_home,corr='_RR',skiprows=0)\n",
    "RR2jk=jk_read(dataset=file_name,var=['wgg'],njk=njk,auto_cross='_cross',bins='_bins2D',\n",
    "            home=file_home,corr='_RR',skiprows=0)\n",
    "SDjk=jk_read(dataset=file_name,var=['wgg'],njk=njk,auto_cross='_cross',bins='_bins',\n",
    "            home=file_home,corr='_SD',skiprows=0)\n",
    "SD2jk=jk_read(dataset=file_name,var=['wgg'],njk=njk,auto_cross='_cross',bins='_bins2D',\n",
    "            home=file_home,corr='_SD',skiprows=0)\n",
    "\n",
    "SRjk=jk_read(dataset=file_name,var=['wgg'],njk=njk,auto_cross='_cross',bins='_bins',\n",
    "            home=file_home,corr='_SR',skiprows=0)"
   ]
  },
  {
   "cell_type": "code",
   "execution_count": null,
   "id": "3c51b07f",
   "metadata": {},
   "outputs": [],
   "source": []
  },
  {
   "cell_type": "code",
   "execution_count": null,
   "id": "later-briefing",
   "metadata": {},
   "outputs": [],
   "source": []
  }
 ],
 "metadata": {
  "kernelspec": {
   "display_name": "intel",
   "language": "python",
   "name": "intel"
  },
  "language_info": {
   "codemirror_mode": {
    "name": "ipython",
    "version": 3
   },
   "file_extension": ".py",
   "mimetype": "text/x-python",
   "name": "python",
   "nbconvert_exporter": "python",
   "pygments_lexer": "ipython3",
   "version": "3.9.12"
  }
 },
 "nbformat": 4,
 "nbformat_minor": 5
}
